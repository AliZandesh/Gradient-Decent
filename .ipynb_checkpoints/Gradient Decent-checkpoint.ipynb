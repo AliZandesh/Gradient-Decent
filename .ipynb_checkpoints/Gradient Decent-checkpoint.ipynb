{
 "cells": [
  {
   "cell_type": "code",
   "execution_count": 3,
   "id": "8d80e899-c2fb-4f01-b862-61890f28bab0",
   "metadata": {},
   "outputs": [],
   "source": [
    "# Importing Libraries\n",
    "import numpy as np\n",
    "import matplotlib.pyplot as plt"
   ]
  },
  {
   "cell_type": "code",
   "execution_count": 2,
   "id": "73cf01bf-1857-401b-a9c1-ece647f5ebbf",
   "metadata": {},
   "outputs": [],
   "source": [
    "def mean_squared_error(y_true, y_predicted):\n",
    "     \n",
    "    # Calculating the loss or cost\n",
    "    cost = np.sum((y_true-y_predicted)**2) / len(y_true)\n",
    "    return cost"
   ]
  },
  {
   "cell_type": "code",
   "execution_count": null,
   "id": "4ab5d06a-501c-411d-b6e5-ff14b9896e72",
   "metadata": {},
   "outputs": [],
   "source": [
    "# Gradient Descent Function\n",
    "# Here iterations, learning_rate, stopping_threshold\n",
    "# are hyperparameters that can be tuned\n",
    "def gradient_descent(x, y, iterations = 1000, learning_rate = 0.0001, \n",
    "                     stopping_threshold = 1e-6):\n",
    "     \n",
    "    # Initializing weight, bias, learning rate and iterations\n",
    "    current_weight = 0.1\n",
    "    current_bias = 0.01\n",
    "    iterations = iterations\n",
    "    learning_rate = learning_rate\n",
    "    n = float(len(x))\n",
    "     \n",
    "    costs = []\n",
    "    weights = []\n",
    "    previous_cost = None\n",
    "     \n",
    "    # Estimation of optimal parameters \n",
    "    # For each iteration\n",
    "    for i in range(iterations):\n",
    "         \n",
    "        # Making predictions\n",
    "        y_predicted = (current_weight * x) + current_bias\n",
    "         \n",
    "        # Calculating the current cost\n",
    "        current_cost = mean_squared_error(y, y_predicted)\n",
    " \n",
    "        # If the change in cost is less than or equal to \n",
    "        # stopping_threshold we stop the gradient descent\n",
    "        if previous_cost and abs(previous_cost-current_cost)<=stopping_threshold:\n",
    "            break\n",
    "         \n",
    "        previous_cost = current_cost\n",
    " \n",
    "        costs.append(current_cost)\n",
    "        weights.append(current_weight)\n",
    "         \n",
    "        # Calculating the gradients\n",
    "        weight_derivative = -(2/n) * sum(x * (y-y_predicted))\n",
    "        bias_derivative = -(2/n) * sum(y-y_predicted)\n",
    "         \n",
    "        # Updating weights and bias\n",
    "        current_weight = current_weight - (learning_rate * weight_derivative)\n",
    "        current_bias = current_bias - (learning_rate * bias_derivative)\n",
    "                 \n",
    "        # Printing the parameters for each 1000th iteration\n",
    "        print(f\"Iteration {i+1}: Cost {current_cost}, Weight \\\n",
    "        {current_weight}, Bias {current_bias}\")"
   ]
  }
 ],
 "metadata": {
  "kernelspec": {
   "display_name": "Python 3 (ipykernel)",
   "language": "python",
   "name": "python3"
  },
  "language_info": {
   "codemirror_mode": {
    "name": "ipython",
    "version": 3
   },
   "file_extension": ".py",
   "mimetype": "text/x-python",
   "name": "python",
   "nbconvert_exporter": "python",
   "pygments_lexer": "ipython3",
   "version": "3.9.5"
  }
 },
 "nbformat": 4,
 "nbformat_minor": 5
}
